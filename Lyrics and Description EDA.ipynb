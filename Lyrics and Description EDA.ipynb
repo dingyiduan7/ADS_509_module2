{
 "cells": [
  {
   "cell_type": "markdown",
   "id": "7f79baf9",
   "metadata": {},
   "source": [
    "# ADS 509 Assignment 2.1: Tokenization, Normalization, Descriptive Statistics \n",
    "\n",
    "This notebook holds Assignment 2.1 for Module 2 in ADS 509, Applied Text Mining. Work through this notebook, writing code and answering questions where required. \n",
    "\n",
    "In the previous assignment you put together Twitter data and lyrics data on two artists. In this assignment we explore some of the textual features of those data sets. If, for some reason, you did not complete that previous assignment, data to use for this assignment can be found in the assignment materials section of Blackboard. \n",
    "\n",
    "This assignment asks you to write a short function to calculate some descriptive statistics on a piece of text. Then you are asked to find some interesting and unique statistics on your corpora. \n"
   ]
  },
  {
   "cell_type": "markdown",
   "id": "aae8e2e1",
   "metadata": {},
   "source": [
    "## General Assignment Instructions\n",
    "\n",
    "These instructions are included in every assignment, to remind you of the coding standards for the class. Feel free to delete this cell after reading it. \n",
    "\n",
    "One sign of mature code is conforming to a style guide. We recommend the [Google Python Style Guide](https://google.github.io/styleguide/pyguide.html). If you use a different style guide, please include a cell with a link. \n",
    "\n",
    "Your code should be relatively easy-to-read, sensibly commented, and clean. Writing code is a messy process, so please be sure to edit your final submission. Remove any cells that are not needed or parts of cells that contain unnecessary code. Remove inessential `import` statements and make sure that all such statements are moved into the designated cell. \n",
    "\n",
    "Make use of non-code cells for written commentary. These cells should be grammatical and clearly written. In some of these cells you will have questions to answer. The questions will be marked by a \"Q:\" and will have a corresponding \"A:\" spot for you. *Make sure to answer every question marked with a `Q:` for full credit.* \n"
   ]
  },
  {
   "cell_type": "code",
   "execution_count": 1,
   "id": "e2d096b7",
   "metadata": {},
   "outputs": [],
   "source": [
    "import os\n",
    "import re\n",
    "import emoji\n",
    "import pandas as pd\n",
    "import numpy as np\n",
    "\n",
    "from collections import Counter, defaultdict\n",
    "from nltk.corpus import stopwords\n",
    "from string import punctuation\n",
    "\n",
    "sw = stopwords.words(\"english\")"
   ]
  },
  {
   "cell_type": "code",
   "execution_count": 2,
   "id": "6b555ab2",
   "metadata": {},
   "outputs": [],
   "source": [
    "# Add any additional import statements you need here\n",
    "from lexical_diversity import lex_div as ld\n",
    "import os.path\n",
    "import datetime"
   ]
  },
  {
   "cell_type": "code",
   "execution_count": 3,
   "id": "923b5a86",
   "metadata": {},
   "outputs": [],
   "source": [
    "# change `data_location` to the location of the folder on your machine.\n",
    "data_location = \"D:/USD-ADS_graduate/ADS-509/Module 1/ADS_509_module1/\"\n",
    "\n",
    "# These subfolders should still work if you correctly stored the \n",
    "# data from the Module 1 assignment\n",
    "twitter_folder = \"twitter/\"\n",
    "lyrics_folder = \"lyrics/\""
   ]
  },
  {
   "cell_type": "code",
   "execution_count": 4,
   "id": "06522af9",
   "metadata": {},
   "outputs": [],
   "source": [
    "def descriptive_stats(tokens, num_tokens = 5, verbose=True) :\n",
    "    \"\"\"\n",
    "        Given a list of tokens, print number of tokens, number of unique tokens, \n",
    "        number of characters, lexical diversity (https://en.wikipedia.org/wiki/Lexical_diversity), \n",
    "        and num_tokens most common tokens. Return a list with the number of tokens, number\n",
    "        of unique tokens, lexical diversity, and number of characters. \n",
    "    \n",
    "    \"\"\"\n",
    "\n",
    "    # Fill in the correct values here. \n",
    "    num_tokens = 13\n",
    "    num_unique_tokens = 9\n",
    "    lexical_diversity = 0.692\n",
    "    num_characters = 55\n",
    "    \n",
    "    if verbose :        \n",
    "        print(f\"There are {num_tokens} tokens in the data.\")\n",
    "        print(f\"There are {num_unique_tokens} unique tokens in the data.\")\n",
    "        print(f\"There are {num_characters} characters in the data.\")\n",
    "        print(f\"The lexical diversity is {lexical_diversity:.3f} in the data.\")\n",
    "    \n",
    "        # print the five most common tokens\n",
    "        \n",
    "    return([num_tokens, num_unique_tokens,\n",
    "            lexical_diversity,\n",
    "            num_characters])\n",
    "    "
   ]
  },
  {
   "cell_type": "code",
   "execution_count": 5,
   "id": "59dcf058",
   "metadata": {},
   "outputs": [
    {
     "name": "stdout",
     "output_type": "stream",
     "text": [
      "There are 13 tokens in the data.\n",
      "There are 9 unique tokens in the data.\n",
      "There are 55 characters in the data.\n",
      "The lexical diversity is 0.692 in the data.\n"
     ]
    }
   ],
   "source": [
    "text = \"\"\"here is some example text with other example text here in this text\"\"\".split()\n",
    "assert(descriptive_stats(text, verbose=True)[0] == 13)\n",
    "assert(descriptive_stats(text, verbose=False)[1] == 9)\n",
    "assert(abs(descriptive_stats(text, verbose=False)[2] - 0.69) < 0.02)\n",
    "assert(descriptive_stats(text, verbose=False)[3] == 55)\n"
   ]
  },
  {
   "cell_type": "markdown",
   "id": "d2e7e1a2",
   "metadata": {},
   "source": [
    "Q: Why is it beneficial to use assertion statements in your code? \n",
    "\n",
    "A: To ensure that our code/logic and texts/strings are correct before moving to the next step."
   ]
  },
  {
   "cell_type": "markdown",
   "id": "9d3bf93e",
   "metadata": {},
   "source": [
    "## Data Input\n",
    "\n",
    "Now read in each of the corpora. For the lyrics data, it may be convenient to store the entire contents of the file to make it easier to inspect the titles individually, as you'll do in the last part of the assignment. In the solution, I stored the lyrics data in a dictionary with two dimensions of keys: artist and song. The value was the file contents. A data frame would work equally well. \n",
    "\n",
    "For the Twitter data, we only need the description field for this assignment. Feel free all the descriptions read it into a data structure. In the solution, I stored the descriptions as a dictionary of lists, with the key being the artist. \n",
    "\n",
    "\n"
   ]
  },
  {
   "cell_type": "code",
   "execution_count": 6,
   "id": "37d70801",
   "metadata": {},
   "outputs": [
    {
     "data": {
      "text/html": [
       "<div>\n",
       "<style scoped>\n",
       "    .dataframe tbody tr th:only-of-type {\n",
       "        vertical-align: middle;\n",
       "    }\n",
       "\n",
       "    .dataframe tbody tr th {\n",
       "        vertical-align: top;\n",
       "    }\n",
       "\n",
       "    .dataframe thead th {\n",
       "        text-align: right;\n",
       "    }\n",
       "</style>\n",
       "<table border=\"1\" class=\"dataframe\">\n",
       "  <thead>\n",
       "    <tr style=\"text-align: right;\">\n",
       "      <th></th>\n",
       "      <th>artist</th>\n",
       "      <th>song</th>\n",
       "      <th>song_content</th>\n",
       "    </tr>\n",
       "  </thead>\n",
       "  <tbody>\n",
       "    <tr>\n",
       "      <th>0</th>\n",
       "      <td>Mariah Carey</td>\n",
       "      <td>allinyourmind</td>\n",
       "      <td>['allinyourmind']\\n\\nCome closer\\nYou seem so ...</td>\n",
       "    </tr>\n",
       "    <tr>\n",
       "      <th>1</th>\n",
       "      <td>Mariah Carey</td>\n",
       "      <td>aloneinlove</td>\n",
       "      <td>['aloneinlove']\\n\\nSwept me away\\nBut now I'm ...</td>\n",
       "    </tr>\n",
       "    <tr>\n",
       "      <th>2</th>\n",
       "      <td>Mariah Carey</td>\n",
       "      <td>andyoudontremember</td>\n",
       "      <td>['andyoudontremember']\\n\\nShattered dreams\\nCu...</td>\n",
       "    </tr>\n",
       "    <tr>\n",
       "      <th>3</th>\n",
       "      <td>Mariah Carey</td>\n",
       "      <td>anytimeyouneedafriend</td>\n",
       "      <td>['anytimeyouneedafriend']\\n\\nIf you're lonely\\...</td>\n",
       "    </tr>\n",
       "    <tr>\n",
       "      <th>4</th>\n",
       "      <td>Mariah Carey</td>\n",
       "      <td>cantletgo</td>\n",
       "      <td>['cantletgo']\\n\\nThere you are, holding her ha...</td>\n",
       "    </tr>\n",
       "  </tbody>\n",
       "</table>\n",
       "</div>"
      ],
      "text/plain": [
       "         artist                   song  \\\n",
       "0  Mariah Carey          allinyourmind   \n",
       "1  Mariah Carey            aloneinlove   \n",
       "2  Mariah Carey     andyoudontremember   \n",
       "3  Mariah Carey  anytimeyouneedafriend   \n",
       "4  Mariah Carey              cantletgo   \n",
       "\n",
       "                                        song_content  \n",
       "0  ['allinyourmind']\\n\\nCome closer\\nYou seem so ...  \n",
       "1  ['aloneinlove']\\n\\nSwept me away\\nBut now I'm ...  \n",
       "2  ['andyoudontremember']\\n\\nShattered dreams\\nCu...  \n",
       "3  ['anytimeyouneedafriend']\\n\\nIf you're lonely\\...  \n",
       "4  ['cantletgo']\\n\\nThere you are, holding her ha...  "
      ]
     },
     "execution_count": 6,
     "metadata": {},
     "output_type": "execute_result"
    }
   ],
   "source": [
    "# Read in the lyrics data\n",
    "lyrics_path = data_location + lyrics_folder\n",
    "artists = os.listdir(lyrics_path)\n",
    "\n",
    "a = []\n",
    "b = []\n",
    "c = []\n",
    "\n",
    "for artist in artists:\n",
    "    raw_song = os.listdir(lyrics_path+artist)\n",
    "    for song in raw_song:\n",
    "        a.append(str(artist))\n",
    "        f = open(lyrics_path+artist+'/'+song, \"r\")\n",
    "        song = re.search('_(.+?).txt',song).group(1)\n",
    "        b.append(song)  \n",
    "        c.append(f.read())\n",
    "\n",
    "lyrics_df = pd.DataFrame({'artist':a,\n",
    "                           'song':b,\n",
    "                           'song_content':c})\n",
    "\n",
    "lyrics_df.head()"
   ]
  },
  {
   "cell_type": "code",
   "execution_count": 7,
   "id": "debcac5a",
   "metadata": {
    "scrolled": false
   },
   "outputs": [],
   "source": [
    "# Read in the twitter data\n",
    "twitter_path = data_location + twitter_folder\n",
    "twitter_files = os.listdir(twitter_path)\n",
    "\n",
    "mariah_df = pd.DataFrame()\n",
    "nicki_df = pd.DataFrame()\n",
    "\n",
    "mariah_des = pd.read_csv(os.path.join(twitter_path, 'MariahCarey_followers.txt'),sep='\\t')['description']\n",
    "nicki_des = pd.read_csv(os.path.join(twitter_path, 'NICKIMINAJ_followers.txt'),sep='\\t')['description']\n",
    "\n",
    "mariah_df['artist'] = ['Mariah Carey']*len(mariah_des)\n",
    "mariah_df['description'] = mariah_des\n",
    "\n",
    "nicki_df['artist'] = ['Nicki Minaj']*len(nicki_des)\n",
    "nicki_df['description'] = nicki_des\n",
    "\n",
    "twitter_df = pd.concat([mariah_df,nicki_df])\n",
    "twitter_df['description'] = twitter_df['description'].astype(str)"
   ]
  },
  {
   "cell_type": "markdown",
   "id": "6a5f3b12",
   "metadata": {},
   "source": [
    "## Data Cleaning\n",
    "\n",
    "Now clean and tokenize your data. Remove punctuation chacters (available in the `punctuation` object in the `string` library), split on whitespace, fold to lowercase, and remove stopwords. Store your cleaned data, which must be accessible as an interable for `descriptive_stats`, in new objects or in new columns in your data frame. \n",
    "\n"
   ]
  },
  {
   "cell_type": "code",
   "execution_count": 8,
   "id": "71c73d86",
   "metadata": {},
   "outputs": [],
   "source": [
    "punctuation = set(punctuation) # speeds up comparison\n",
    "punctuation.add('’')"
   ]
  },
  {
   "cell_type": "code",
   "execution_count": 9,
   "id": "b327033a",
   "metadata": {},
   "outputs": [],
   "source": [
    "# create your clean twitter data here\n",
    "\n",
    "# remove punctuation\n",
    "def remove_punctuations(text):\n",
    "    for punc in punctuation:\n",
    "        text = text.replace(punc, '')\n",
    "    return text\n",
    "\n",
    "# split_on_whitespace\n",
    "def split_on_whitespace(text):\n",
    "    text = text.split()\n",
    "    return text\n",
    "\n",
    "# fold to lower case\n",
    "def fold_to_lower_case(text_list):\n",
    "    text_list = [i.casefold() for i in text_list]\n",
    "    return text_list\n",
    "\n",
    "# remove stop words\n",
    "def remove_stop_words(text_list):\n",
    "    text_list = [i for i in text_list if not i in sw]\n",
    "    return text_list\n",
    "\n",
    "\n",
    "\n",
    "twitter_df[\"description_clean\"] = twitter_df['description']\n",
    "\n",
    "twitter_df[\"description_clean\"] = twitter_df['description_clean'].apply(remove_punctuations)\\\n",
    ".apply(split_on_whitespace).apply(fold_to_lower_case).apply(remove_stop_words)"
   ]
  },
  {
   "cell_type": "code",
   "execution_count": 10,
   "id": "c93bd08e",
   "metadata": {},
   "outputs": [
    {
     "data": {
      "text/html": [
       "<div>\n",
       "<style scoped>\n",
       "    .dataframe tbody tr th:only-of-type {\n",
       "        vertical-align: middle;\n",
       "    }\n",
       "\n",
       "    .dataframe tbody tr th {\n",
       "        vertical-align: top;\n",
       "    }\n",
       "\n",
       "    .dataframe thead th {\n",
       "        text-align: right;\n",
       "    }\n",
       "</style>\n",
       "<table border=\"1\" class=\"dataframe\">\n",
       "  <thead>\n",
       "    <tr style=\"text-align: right;\">\n",
       "      <th></th>\n",
       "      <th>artist</th>\n",
       "      <th>description</th>\n",
       "      <th>description_clean</th>\n",
       "    </tr>\n",
       "  </thead>\n",
       "  <tbody>\n",
       "    <tr>\n",
       "      <th>0</th>\n",
       "      <td>Mariah Carey</td>\n",
       "      <td>nan</td>\n",
       "      <td>[nan]</td>\n",
       "    </tr>\n",
       "    <tr>\n",
       "      <th>1</th>\n",
       "      <td>Mariah Carey</td>\n",
       "      <td>nan</td>\n",
       "      <td>[nan]</td>\n",
       "    </tr>\n",
       "    <tr>\n",
       "      <th>2</th>\n",
       "      <td>Mariah Carey</td>\n",
       "      <td>nan</td>\n",
       "      <td>[nan]</td>\n",
       "    </tr>\n",
       "    <tr>\n",
       "      <th>3</th>\n",
       "      <td>Mariah Carey</td>\n",
       "      <td>There’s nothing more inspiring than a story th...</td>\n",
       "      <td>[theres, nothing, inspiring, story, touches, h...</td>\n",
       "    </tr>\n",
       "    <tr>\n",
       "      <th>4</th>\n",
       "      <td>Mariah Carey</td>\n",
       "      <td>♑️ | Bi | Take It Or Leave It 🤷🏾‍♂️| Don’t sta...</td>\n",
       "      <td>[♑️, bi, take, leave, 🤷🏾‍♂️, dont, start, nun,...</td>\n",
       "    </tr>\n",
       "  </tbody>\n",
       "</table>\n",
       "</div>"
      ],
      "text/plain": [
       "         artist                                        description  \\\n",
       "0  Mariah Carey                                                nan   \n",
       "1  Mariah Carey                                                nan   \n",
       "2  Mariah Carey                                                nan   \n",
       "3  Mariah Carey  There’s nothing more inspiring than a story th...   \n",
       "4  Mariah Carey  ♑️ | Bi | Take It Or Leave It 🤷🏾‍♂️| Don’t sta...   \n",
       "\n",
       "                                   description_clean  \n",
       "0                                              [nan]  \n",
       "1                                              [nan]  \n",
       "2                                              [nan]  \n",
       "3  [theres, nothing, inspiring, story, touches, h...  \n",
       "4  [♑️, bi, take, leave, 🤷🏾‍♂️, dont, start, nun,...  "
      ]
     },
     "execution_count": 10,
     "metadata": {},
     "output_type": "execute_result"
    }
   ],
   "source": [
    "twitter_df.head()"
   ]
  },
  {
   "cell_type": "code",
   "execution_count": 11,
   "id": "e0f22e10",
   "metadata": {},
   "outputs": [],
   "source": [
    "# create your clean lyrics data here\n",
    "lyrics_df['song_content_clean'] = lyrics_df['song_content']\n",
    "lyrics_df['song_content_clean'] = lyrics_df['song_content_clean'].apply(remove_punctuations)\\\n",
    ".apply(split_on_whitespace).apply(fold_to_lower_case).apply(remove_stop_words)"
   ]
  },
  {
   "cell_type": "code",
   "execution_count": 12,
   "id": "8bea558d",
   "metadata": {},
   "outputs": [
    {
     "data": {
      "text/html": [
       "<div>\n",
       "<style scoped>\n",
       "    .dataframe tbody tr th:only-of-type {\n",
       "        vertical-align: middle;\n",
       "    }\n",
       "\n",
       "    .dataframe tbody tr th {\n",
       "        vertical-align: top;\n",
       "    }\n",
       "\n",
       "    .dataframe thead th {\n",
       "        text-align: right;\n",
       "    }\n",
       "</style>\n",
       "<table border=\"1\" class=\"dataframe\">\n",
       "  <thead>\n",
       "    <tr style=\"text-align: right;\">\n",
       "      <th></th>\n",
       "      <th>artist</th>\n",
       "      <th>song</th>\n",
       "      <th>song_content</th>\n",
       "      <th>song_content_clean</th>\n",
       "    </tr>\n",
       "  </thead>\n",
       "  <tbody>\n",
       "    <tr>\n",
       "      <th>0</th>\n",
       "      <td>Mariah Carey</td>\n",
       "      <td>allinyourmind</td>\n",
       "      <td>['allinyourmind']\\n\\nCome closer\\nYou seem so ...</td>\n",
       "      <td>[allinyourmind, come, closer, seem, far, away,...</td>\n",
       "    </tr>\n",
       "    <tr>\n",
       "      <th>1</th>\n",
       "      <td>Mariah Carey</td>\n",
       "      <td>aloneinlove</td>\n",
       "      <td>['aloneinlove']\\n\\nSwept me away\\nBut now I'm ...</td>\n",
       "      <td>[aloneinlove, swept, away, im, lost, dark, set...</td>\n",
       "    </tr>\n",
       "    <tr>\n",
       "      <th>2</th>\n",
       "      <td>Mariah Carey</td>\n",
       "      <td>andyoudontremember</td>\n",
       "      <td>['andyoudontremember']\\n\\nShattered dreams\\nCu...</td>\n",
       "      <td>[andyoudontremember, shattered, dreams, cut, m...</td>\n",
       "    </tr>\n",
       "    <tr>\n",
       "      <th>3</th>\n",
       "      <td>Mariah Carey</td>\n",
       "      <td>anytimeyouneedafriend</td>\n",
       "      <td>['anytimeyouneedafriend']\\n\\nIf you're lonely\\...</td>\n",
       "      <td>[anytimeyouneedafriend, youre, lonely, need, f...</td>\n",
       "    </tr>\n",
       "    <tr>\n",
       "      <th>4</th>\n",
       "      <td>Mariah Carey</td>\n",
       "      <td>cantletgo</td>\n",
       "      <td>['cantletgo']\\n\\nThere you are, holding her ha...</td>\n",
       "      <td>[cantletgo, holding, hand, lost, dying, unders...</td>\n",
       "    </tr>\n",
       "  </tbody>\n",
       "</table>\n",
       "</div>"
      ],
      "text/plain": [
       "         artist                   song  \\\n",
       "0  Mariah Carey          allinyourmind   \n",
       "1  Mariah Carey            aloneinlove   \n",
       "2  Mariah Carey     andyoudontremember   \n",
       "3  Mariah Carey  anytimeyouneedafriend   \n",
       "4  Mariah Carey              cantletgo   \n",
       "\n",
       "                                        song_content  \\\n",
       "0  ['allinyourmind']\\n\\nCome closer\\nYou seem so ...   \n",
       "1  ['aloneinlove']\\n\\nSwept me away\\nBut now I'm ...   \n",
       "2  ['andyoudontremember']\\n\\nShattered dreams\\nCu...   \n",
       "3  ['anytimeyouneedafriend']\\n\\nIf you're lonely\\...   \n",
       "4  ['cantletgo']\\n\\nThere you are, holding her ha...   \n",
       "\n",
       "                                  song_content_clean  \n",
       "0  [allinyourmind, come, closer, seem, far, away,...  \n",
       "1  [aloneinlove, swept, away, im, lost, dark, set...  \n",
       "2  [andyoudontremember, shattered, dreams, cut, m...  \n",
       "3  [anytimeyouneedafriend, youre, lonely, need, f...  \n",
       "4  [cantletgo, holding, hand, lost, dying, unders...  "
      ]
     },
     "execution_count": 12,
     "metadata": {},
     "output_type": "execute_result"
    }
   ],
   "source": [
    "lyrics_df.head()"
   ]
  },
  {
   "cell_type": "markdown",
   "id": "f2dd0179",
   "metadata": {},
   "source": [
    "## Basic Descriptive Statistics\n",
    "\n",
    "Call your `descriptive_stats` function on both your lyrics data and your twitter data and for both artists (four total calls). "
   ]
  },
  {
   "cell_type": "code",
   "execution_count": 13,
   "id": "5566b967",
   "metadata": {},
   "outputs": [],
   "source": [
    "def descriptive_stats_ddy(tokens, verbose=True) :\n",
    "    \"\"\"\n",
    "        Given a list of tokens, print number of tokens, number of unique tokens, \n",
    "        number of characters, lexical diversity (https://en.wikipedia.org/wiki/Lexical_diversity), \n",
    "        and num_tokens most common tokens. Return a list with the number of tokens, number\n",
    "        of unique tokens, lexical diversity, and number of characters. \n",
    "    \n",
    "    \"\"\"\n",
    "\n",
    "    # Fill in the correct values here. \n",
    "    num_tokens = len(tokens)\n",
    "    num_unique_tokens = len(set(tokens))\n",
    "    lexical_diversity = ld.ttr(tokens)\n",
    "    num_characters = sum([len(token) for token in tokens])\n",
    "    top5_tokens = Counter(tokens).most_common()[:5]\n",
    "    \n",
    "    if verbose :        \n",
    "        print(f\"There are {num_tokens} tokens in the data.\")\n",
    "        print(f\"There are {num_unique_tokens} unique tokens in the data.\")\n",
    "        print(f\"The lexical diversity is {lexical_diversity:.3f} in the data.\")\n",
    "        print(f\"There are {num_characters} characters in the data.\")\n",
    "        print(f\"These are the five most common tokens in the data: {top5_tokens}.\")\n",
    "    \n",
    "        # print the five most common tokens\n",
    "        \n",
    "    #return([num_tokens, num_unique_tokens,\n",
    "            #lexical_diversity,\n",
    "            #num_characters])"
   ]
  },
  {
   "cell_type": "code",
   "execution_count": 14,
   "id": "f0bbedd9",
   "metadata": {
    "scrolled": false
   },
   "outputs": [
    {
     "name": "stdout",
     "output_type": "stream",
     "text": [
      "For Mariah Carey's lyrics: /n\n",
      "There are 3791 tokens in the data.\n",
      "There are 681 unique tokens in the data.\n",
      "The lexical diversity is 0.180 in the data.\n",
      "There are 18510 characters in the data.\n",
      "These are the five most common tokens in the data: [('dont', 117), ('love', 108), ('youre', 89), ('know', 76), ('baby', 71)].\n",
      "[3791, 681, 0.17963597995251912, 18510]\n",
      "\n",
      "\n",
      "\n",
      "For Nicki Minaj's lyrics: /n\n",
      "There are 6626 tokens in the data.\n",
      "There are 1983 unique tokens in the data.\n",
      "The lexical diversity is 0.299 in the data.\n",
      "There are 30778 characters in the data.\n",
      "These are the five most common tokens in the data: [('im', 227), ('like', 150), ('get', 117), ('buck', 106), ('dont', 90)].\n",
      "[6626, 1983, 0.2992755810443707, 30778]\n",
      "\n",
      "\n",
      "\n",
      "For Mariah Carey's followers' description: /n\n",
      "There are 337067 tokens in the data.\n",
      "There are 77148 unique tokens in the data.\n",
      "The lexical diversity is 0.229 in the data.\n",
      "There are 1795419 characters in the data.\n",
      "These are the five most common tokens in the data: [('nan', 49052), ('love', 3470), ('im', 3445), ('life', 2012), ('de', 1802)].\n",
      "[337067, 77148, 0.22888031162943867, 1795419]\n",
      "\n",
      "\n",
      "\n",
      "For Nicki Minaj's followers' description: /n\n",
      "There are 226481 tokens in the data.\n",
      "There are 52374 unique tokens in the data.\n",
      "The lexical diversity is 0.231 in the data.\n",
      "There are 1078081 characters in the data.\n",
      "These are the five most common tokens in the data: [('nan', 68675), ('im', 1565), ('love', 1311), ('life', 895), ('ig', 696)].\n",
      "[226481, 52374, 0.23125118663375735, 1078081]\n",
      "\n",
      "\n",
      "\n",
      "Total time consumed is: 0:04:59.430239\n"
     ]
    }
   ],
   "source": [
    "# calls to descriptive_stats here\n",
    "start_time = datetime.datetime.now()\n",
    "mariah_lyrics  = lyrics_df['song_content_clean'].loc[lyrics_df['artist'] == 'Mariah Carey']\n",
    "nicki_lyrics   = lyrics_df['song_content_clean'].loc[lyrics_df['artist'] == 'Nicki Minaj']\n",
    "mariah_twitter = twitter_df['description_clean'].loc[twitter_df['artist'] == 'Mariah Carey']\n",
    "nicki_twitter  = twitter_df['description_clean'].loc[twitter_df['artist'] == 'Nicki Minaj']\n",
    "\n",
    "mariah_lyrics_sum = []\n",
    "for i in range(len(mariah_lyrics)):\n",
    "    mariah_lyrics_sum = mariah_lyrics_sum + mariah_lyrics[i]\n",
    "\n",
    "nicki_lyrics_sum = []\n",
    "for i in range(len(mariah_lyrics)):\n",
    "    nicki_lyrics_sum = nicki_lyrics_sum + nicki_lyrics[i+len(mariah_lyrics)] # index for nicki is from 26 where mariah left over\n",
    "\n",
    "mariah_twitter_sum = []\n",
    "for i in range(len(mariah_twitter)):\n",
    "    mariah_twitter_sum = mariah_twitter_sum + mariah_twitter[i]\n",
    "    \n",
    "nicki_twitter_sum = []\n",
    "for i in range(len(nicki_twitter)):\n",
    "    nicki_twitter_sum = nicki_twitter_sum + nicki_twitter[i]\n",
    "    \n",
    "print(\"For Mariah Carey's lyrics: \\n\")\n",
    "print(descriptive_stats_ddy(mariah_lyrics_sum, verbose=True))\n",
    "print('\\n\\n')\n",
    "print(\"For Nicki Minaj's lyrics: \\n\")\n",
    "print(descriptive_stats_ddy(nicki_lyrics_sum, verbose=True))\n",
    "print('\\n\\n')\n",
    "print(\"For Mariah Carey's followers' description: \\n\")\n",
    "print(descriptive_stats_ddy(mariah_twitter_sum, verbose=True))\n",
    "print('\\n\\n')\n",
    "print(\"For Nicki Minaj's followers' description: \\n\")\n",
    "print(descriptive_stats_ddy(nicki_twitter_sum, verbose=True))\n",
    "print('\\n\\n')\n",
    "end_time = datetime.datetime.now()\n",
    "print(\"Total time consumed:\", end_time-start_time)"
   ]
  },
  {
   "cell_type": "markdown",
   "id": "46294409",
   "metadata": {},
   "source": [
    "Q: How do you think the \"top 5 words\" would be different if we left stopwords in the data? \n",
    "\n",
    "A: \n",
    "\n",
    "---\n",
    "\n",
    "Q: What were your prior beliefs about the lexical diversity between the artists? Does the difference (or lack thereof) in lexical diversity between the artists conform to your prior beliefs? \n",
    "\n",
    "A: \n"
   ]
  },
  {
   "cell_type": "markdown",
   "id": "4d4e1ac1",
   "metadata": {},
   "source": [
    "\n",
    "## Specialty Statistics\n",
    "\n",
    "The descriptive statistics we have calculated are quite generic. You will now calculate a handful of statistics tailored to these data.\n",
    "\n",
    "1. Ten most common emojis by artist in the twitter descriptions.\n",
    "1. Ten most common hashtags by artist in the twitter descriptions.\n",
    "1. Five most common words in song titles by artist. \n",
    "1. For each artist, a histogram of song lengths (in terms of number of tokens) \n",
    "\n",
    "We can use the `emoji` library to help us identify emojis and you have been given a function to help you.\n"
   ]
  },
  {
   "cell_type": "code",
   "execution_count": 17,
   "id": "753a5a3e",
   "metadata": {},
   "outputs": [
    {
     "ename": "AttributeError",
     "evalue": "module 'emoji' has no attribute 'UNICODE_EMOJI'",
     "output_type": "error",
     "traceback": [
      "\u001b[1;31m---------------------------------------------------------------------------\u001b[0m",
      "\u001b[1;31mAttributeError\u001b[0m                            Traceback (most recent call last)",
      "\u001b[1;32m<ipython-input-17-a178de281c51>\u001b[0m in \u001b[0;36m<module>\u001b[1;34m\u001b[0m\n\u001b[0;32m      2\u001b[0m     \u001b[1;32mreturn\u001b[0m\u001b[1;33m(\u001b[0m\u001b[0ms\u001b[0m \u001b[1;32min\u001b[0m \u001b[0memoji\u001b[0m\u001b[1;33m.\u001b[0m\u001b[0mUNICODE_EMOJI\u001b[0m\u001b[1;33m[\u001b[0m\u001b[1;34m'en'\u001b[0m\u001b[1;33m]\u001b[0m\u001b[1;33m)\u001b[0m\u001b[1;33m\u001b[0m\u001b[1;33m\u001b[0m\u001b[0m\n\u001b[0;32m      3\u001b[0m \u001b[1;33m\u001b[0m\u001b[0m\n\u001b[1;32m----> 4\u001b[1;33m \u001b[1;32massert\u001b[0m\u001b[1;33m(\u001b[0m\u001b[0mis_emoji\u001b[0m\u001b[1;33m(\u001b[0m\u001b[1;34m\"❤️\"\u001b[0m\u001b[1;33m)\u001b[0m\u001b[1;33m)\u001b[0m\u001b[1;33m\u001b[0m\u001b[1;33m\u001b[0m\u001b[0m\n\u001b[0m\u001b[0;32m      5\u001b[0m \u001b[1;32massert\u001b[0m\u001b[1;33m(\u001b[0m\u001b[1;32mnot\u001b[0m \u001b[0mis_emoji\u001b[0m\u001b[1;33m(\u001b[0m\u001b[1;34m\":-)\"\u001b[0m\u001b[1;33m)\u001b[0m\u001b[1;33m)\u001b[0m\u001b[1;33m\u001b[0m\u001b[1;33m\u001b[0m\u001b[0m\n",
      "\u001b[1;32m<ipython-input-17-a178de281c51>\u001b[0m in \u001b[0;36mis_emoji\u001b[1;34m(s)\u001b[0m\n\u001b[0;32m      1\u001b[0m \u001b[1;32mdef\u001b[0m \u001b[0mis_emoji\u001b[0m\u001b[1;33m(\u001b[0m\u001b[0ms\u001b[0m\u001b[1;33m)\u001b[0m\u001b[1;33m:\u001b[0m\u001b[1;33m\u001b[0m\u001b[1;33m\u001b[0m\u001b[0m\n\u001b[1;32m----> 2\u001b[1;33m     \u001b[1;32mreturn\u001b[0m\u001b[1;33m(\u001b[0m\u001b[0ms\u001b[0m \u001b[1;32min\u001b[0m \u001b[0memoji\u001b[0m\u001b[1;33m.\u001b[0m\u001b[0mUNICODE_EMOJI\u001b[0m\u001b[1;33m[\u001b[0m\u001b[1;34m'en'\u001b[0m\u001b[1;33m]\u001b[0m\u001b[1;33m)\u001b[0m\u001b[1;33m\u001b[0m\u001b[1;33m\u001b[0m\u001b[0m\n\u001b[0m\u001b[0;32m      3\u001b[0m \u001b[1;33m\u001b[0m\u001b[0m\n\u001b[0;32m      4\u001b[0m \u001b[1;32massert\u001b[0m\u001b[1;33m(\u001b[0m\u001b[0mis_emoji\u001b[0m\u001b[1;33m(\u001b[0m\u001b[1;34m\"❤️\"\u001b[0m\u001b[1;33m)\u001b[0m\u001b[1;33m)\u001b[0m\u001b[1;33m\u001b[0m\u001b[1;33m\u001b[0m\u001b[0m\n\u001b[0;32m      5\u001b[0m \u001b[1;32massert\u001b[0m\u001b[1;33m(\u001b[0m\u001b[1;32mnot\u001b[0m \u001b[0mis_emoji\u001b[0m\u001b[1;33m(\u001b[0m\u001b[1;34m\":-)\"\u001b[0m\u001b[1;33m)\u001b[0m\u001b[1;33m)\u001b[0m\u001b[1;33m\u001b[0m\u001b[1;33m\u001b[0m\u001b[0m\n",
      "\u001b[1;31mAttributeError\u001b[0m: module 'emoji' has no attribute 'UNICODE_EMOJI'"
     ]
    }
   ],
   "source": [
    "def is_emoji(s):\n",
    "    return(s in emoji.UNICODE_EMOJI['en'])\n",
    "\n",
    "assert(is_emoji(\"❤️\"))\n",
    "assert(not is_emoji(\":-)\"))"
   ]
  },
  {
   "cell_type": "markdown",
   "id": "986fc4c0",
   "metadata": {},
   "source": [
    "### Emojis 😁\n",
    "\n",
    "What are the ten most common emojis by artist in the twitter descriptions? \n"
   ]
  },
  {
   "cell_type": "code",
   "execution_count": null,
   "id": "269cd433",
   "metadata": {},
   "outputs": [],
   "source": [
    "# Your code here"
   ]
  },
  {
   "cell_type": "markdown",
   "id": "bab9b770",
   "metadata": {},
   "source": [
    "### Hashtags\n",
    "\n",
    "What are the ten most common hashtags by artist in the twitter descriptions? \n"
   ]
  },
  {
   "cell_type": "code",
   "execution_count": null,
   "id": "07c396f1",
   "metadata": {},
   "outputs": [],
   "source": [
    "# Your code here"
   ]
  },
  {
   "cell_type": "markdown",
   "id": "d10f21d5",
   "metadata": {},
   "source": [
    "### Song Titles\n",
    "\n",
    "What are the five most common words in song titles by artist? The song titles should be on the first line of the lyrics pages, so if you have kept the raw file contents around, you will not need to re-read the data.\n"
   ]
  },
  {
   "cell_type": "code",
   "execution_count": null,
   "id": "bb69b36b",
   "metadata": {},
   "outputs": [],
   "source": [
    "# Your code here"
   ]
  },
  {
   "cell_type": "markdown",
   "id": "5dd4fd71",
   "metadata": {},
   "source": [
    "### Song Lengths\n",
    "\n",
    "For each artist, a histogram of song lengths (in terms of number of tokens). If you put the song lengths in a data frame with an artist column, matplotlib will make the plotting quite easy. An example is given to help you out. \n"
   ]
  },
  {
   "cell_type": "code",
   "execution_count": null,
   "id": "805a1e52",
   "metadata": {},
   "outputs": [],
   "source": [
    "num_replicates = 1000\n",
    "\n",
    "df = pd.DataFrame({\n",
    "    \"artist\" : ['Artist 1'] * num_replicates + ['Artist 2']*num_replicates,\n",
    "    \"length\" : np.concatenate((np.random.poisson(125,num_replicates),np.random.poisson(150,num_replicates)))\n",
    "})\n",
    "\n",
    "df.groupby('artist')['length'].plot(kind=\"hist\",density=True,alpha=0.5,legend=True)"
   ]
  },
  {
   "cell_type": "markdown",
   "id": "8fde9ebb",
   "metadata": {},
   "source": [
    "Since the lyrics may be stored with carriage returns or tabs, it may be useful to have a function that can collapse whitespace, using regular expressions, and be used for splitting. \n",
    "\n",
    "Q: What does the regular expression `'\\s+'` match on? \n",
    "\n",
    "A: \n"
   ]
  },
  {
   "cell_type": "code",
   "execution_count": null,
   "id": "f0e34516",
   "metadata": {},
   "outputs": [],
   "source": [
    "collapse_whitespace = re.compile(r'\\s+')\n",
    "\n",
    "def tokenize_lyrics(lyric) : \n",
    "    \"\"\"strip and split on whitespace\"\"\"\n",
    "    return([item.lower() for item in collapse_whitespace.split(lyric)])"
   ]
  },
  {
   "cell_type": "code",
   "execution_count": null,
   "id": "2294c440",
   "metadata": {},
   "outputs": [],
   "source": [
    "# Your lyric length comparison chart here. "
   ]
  }
 ],
 "metadata": {
  "kernelspec": {
   "display_name": "Python 3",
   "language": "python",
   "name": "python3"
  },
  "language_info": {
   "codemirror_mode": {
    "name": "ipython",
    "version": 3
   },
   "file_extension": ".py",
   "mimetype": "text/x-python",
   "name": "python",
   "nbconvert_exporter": "python",
   "pygments_lexer": "ipython3",
   "version": "3.8.8"
  }
 },
 "nbformat": 4,
 "nbformat_minor": 5
}
